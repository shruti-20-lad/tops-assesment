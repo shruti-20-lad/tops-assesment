{
  "nbformat": 4,
  "nbformat_minor": 0,
  "metadata": {
    "colab": {
      "provenance": []
    },
    "kernelspec": {
      "name": "python3",
      "display_name": "Python 3"
    },
    "language_info": {
      "name": "python"
    }
  },
  "cells": [
    {
      "cell_type": "code",
      "execution_count": 1,
      "metadata": {
        "id": "14Oc5azgH0Ck"
      },
      "outputs": [],
      "source": [
        "import requests\n",
        "from bs4 import BeautifulSoup\n"
      ]
    },
    {
      "cell_type": "code",
      "source": [
        "# URL to scrape\n",
        "url = \"http://quotes.toscrape.com\"\n",
        "\n",
        "# Send a GET request\n",
        "response = requests.get(url)\n",
        "\n",
        "# Check if request was successful\n",
        "if response.status_code == 200:\n",
        "    print(\"Page fetched successfully!\")\n",
        "else:\n",
        "    print(\"Failed to fetch page:\", response.status_code)"
      ],
      "metadata": {
        "colab": {
          "base_uri": "https://localhost:8080/"
        },
        "id": "XtN_zvd-H2wL",
        "outputId": "e1bbfecb-6010-4f13-fea0-143307038ab6"
      },
      "execution_count": 2,
      "outputs": [
        {
          "output_type": "stream",
          "name": "stdout",
          "text": [
            "Page fetched successfully!\n"
          ]
        }
      ]
    },
    {
      "cell_type": "code",
      "source": [
        "# Parse page content using Beautiful Soup\n",
        "soup = BeautifulSoup(response.text, \"html.parser\")\n",
        "\n",
        "# Check the soup object (prints the title of the page)\n",
        "print(soup.title.text)"
      ],
      "metadata": {
        "colab": {
          "base_uri": "https://localhost:8080/"
        },
        "id": "44AlQDDjIB1o",
        "outputId": "e729482f-040f-43f3-b6bb-f4247b569bdf"
      },
      "execution_count": 3,
      "outputs": [
        {
          "output_type": "stream",
          "name": "stdout",
          "text": [
            "Quotes to Scrape\n"
          ]
        }
      ]
    },
    {
      "cell_type": "code",
      "source": [
        "# Find all quote containers\n",
        "quotes = soup.find_all(\"div\", class_=\"quote\")\n",
        "\n",
        "# Loop through each quote and extract details\n",
        "for quote in quotes:\n",
        "    text = quote.find(\"span\", class_=\"text\").text\n",
        "    author = quote.find(\"small\", class_=\"author\").text\n",
        "    tags = [tag.text for tag in quote.find_all(\"a\", class_=\"tag\")]\n",
        "\n",
        "    print(f\"Quote: {text}\")\n",
        "    print(f\"Author: {author}\")\n",
        "    print(f\"Tags: {tags}\")\n",
        "    print(\"-\" * 50)\n"
      ],
      "metadata": {
        "colab": {
          "base_uri": "https://localhost:8080/"
        },
        "id": "GSvapI_sIFkF",
        "outputId": "5ff16096-85ab-4fe2-d54e-387380e524cf"
      },
      "execution_count": 4,
      "outputs": [
        {
          "output_type": "stream",
          "name": "stdout",
          "text": [
            "Quote: “The world as we have created it is a process of our thinking. It cannot be changed without changing our thinking.”\n",
            "Author: Albert Einstein\n",
            "Tags: ['change', 'deep-thoughts', 'thinking', 'world']\n",
            "--------------------------------------------------\n",
            "Quote: “It is our choices, Harry, that show what we truly are, far more than our abilities.”\n",
            "Author: J.K. Rowling\n",
            "Tags: ['abilities', 'choices']\n",
            "--------------------------------------------------\n",
            "Quote: “There are only two ways to live your life. One is as though nothing is a miracle. The other is as though everything is a miracle.”\n",
            "Author: Albert Einstein\n",
            "Tags: ['inspirational', 'life', 'live', 'miracle', 'miracles']\n",
            "--------------------------------------------------\n",
            "Quote: “The person, be it gentleman or lady, who has not pleasure in a good novel, must be intolerably stupid.”\n",
            "Author: Jane Austen\n",
            "Tags: ['aliteracy', 'books', 'classic', 'humor']\n",
            "--------------------------------------------------\n",
            "Quote: “Imperfection is beauty, madness is genius and it's better to be absolutely ridiculous than absolutely boring.”\n",
            "Author: Marilyn Monroe\n",
            "Tags: ['be-yourself', 'inspirational']\n",
            "--------------------------------------------------\n",
            "Quote: “Try not to become a man of success. Rather become a man of value.”\n",
            "Author: Albert Einstein\n",
            "Tags: ['adulthood', 'success', 'value']\n",
            "--------------------------------------------------\n",
            "Quote: “It is better to be hated for what you are than to be loved for what you are not.”\n",
            "Author: André Gide\n",
            "Tags: ['life', 'love']\n",
            "--------------------------------------------------\n",
            "Quote: “I have not failed. I've just found 10,000 ways that won't work.”\n",
            "Author: Thomas A. Edison\n",
            "Tags: ['edison', 'failure', 'inspirational', 'paraphrased']\n",
            "--------------------------------------------------\n",
            "Quote: “A woman is like a tea bag; you never know how strong it is until it's in hot water.”\n",
            "Author: Eleanor Roosevelt\n",
            "Tags: ['misattributed-eleanor-roosevelt']\n",
            "--------------------------------------------------\n",
            "Quote: “A day without sunshine is like, you know, night.”\n",
            "Author: Steve Martin\n",
            "Tags: ['humor', 'obvious', 'simile']\n",
            "--------------------------------------------------\n"
          ]
        }
      ]
    },
    {
      "cell_type": "code",
      "source": [
        "import pandas as pd\n",
        "\n",
        "data = []\n",
        "\n",
        "for quote in quotes:\n",
        "    text = quote.find(\"span\", class_=\"text\").text\n",
        "    author = quote.find(\"small\", class_=\"author\").text\n",
        "    tags = [tag.text for tag in quote.find_all(\"a\", class_=\"tag\")]\n",
        "\n",
        "    data.append({\n",
        "        \"Quote\": text,\n",
        "        \"Author\": author,\n",
        "        \"Tags\": \", \".join(tags)\n",
        "    })\n",
        "\n",
        "# Convert to DataFrame\n",
        "df = pd.DataFrame(data)\n",
        "print(df.head())\n"
      ],
      "metadata": {
        "colab": {
          "base_uri": "https://localhost:8080/"
        },
        "id": "-g0DxIn6IJ_S",
        "outputId": "ef44eb26-5789-4fbf-f92d-869d0c173307"
      },
      "execution_count": 5,
      "outputs": [
        {
          "output_type": "stream",
          "name": "stdout",
          "text": [
            "                                               Quote           Author  \\\n",
            "0  “The world as we have created it is a process ...  Albert Einstein   \n",
            "1  “It is our choices, Harry, that show what we t...     J.K. Rowling   \n",
            "2  “There are only two ways to live your life. On...  Albert Einstein   \n",
            "3  “The person, be it gentleman or lady, who has ...      Jane Austen   \n",
            "4  “Imperfection is beauty, madness is genius and...   Marilyn Monroe   \n",
            "\n",
            "                                           Tags  \n",
            "0        change, deep-thoughts, thinking, world  \n",
            "1                            abilities, choices  \n",
            "2  inspirational, life, live, miracle, miracles  \n",
            "3              aliteracy, books, classic, humor  \n",
            "4                    be-yourself, inspirational  \n"
          ]
        }
      ]
    },
    {
      "cell_type": "code",
      "source": [
        "df.to_csv(\"quotes.csv\", index=False)\n",
        "print(\"Data saved to quotes.csv\")\n"
      ],
      "metadata": {
        "colab": {
          "base_uri": "https://localhost:8080/"
        },
        "id": "JrnU5mwkIOHX",
        "outputId": "96be17e1-231c-45cf-9741-997457fe66bf"
      },
      "execution_count": 6,
      "outputs": [
        {
          "output_type": "stream",
          "name": "stdout",
          "text": [
            "Data saved to quotes.csv\n"
          ]
        }
      ]
    },
    {
      "cell_type": "code",
      "source": [],
      "metadata": {
        "id": "VXRETWIwISXt"
      },
      "execution_count": null,
      "outputs": []
    }
  ]
}